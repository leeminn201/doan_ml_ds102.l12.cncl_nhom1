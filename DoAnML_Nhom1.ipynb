{
  "nbformat": 4,
  "nbformat_minor": 0,
  "metadata": {
    "colab": {
      "name": "Copy of DoAnML.ipynb",
      "provenance": [],
      "collapsed_sections": []
    },
    "kernelspec": {
      "name": "python3",
      "display_name": "Python 3"
    }
  },
  "cells": [
    {
      "cell_type": "markdown",
      "metadata": {
        "id": "tSKlk4iF7vnA"
      },
      "source": [
        "**Import thư viện**"
      ]
    },
    {
      "cell_type": "code",
      "metadata": {
        "id": "571DhZI9HiaI"
      },
      "source": [
        "import pandas as pd\n",
        "import numpy as np\n",
        "import seaborn as sns\n",
        "import matplotlib.pyplot as plt\n",
        "import re\n",
        "import nltk\n",
        "\n",
        "from sklearn.feature_extraction.text import CountVectorizer, TfidfVectorizer\n",
        "from sklearn.linear_model import LogisticRegression\n",
        "from sklearn.svm import LinearSVC\n",
        "from sklearn.naive_bayes import MultinomialNB\n",
        "\n",
        "\n",
        "from sklearn.feature_extraction.text import TfidfTransformer\n",
        "from sklearn import metrics\n",
        "from sklearn.metrics import classification_report, confusion_matrix, accuracy_score"
      ],
      "execution_count": 2,
      "outputs": []
    },
    {
      "cell_type": "markdown",
      "metadata": {
        "id": "QCbzrDHy70ST"
      },
      "source": [
        "Import thư viện và gán giá trị nhãn real: 1, fake: 0 và xử lí column."
      ]
    },
    {
      "cell_type": "code",
      "metadata": {
        "id": "JjD1kgjIJMzb",
        "colab": {
          "base_uri": "https://localhost:8080/"
        },
        "outputId": "f0a4db44-4765-4904-e000-72e6d8965ff0"
      },
      "source": [
        "train = pd.read_excel('/content/Constraint_English_Train.xlsx')\n",
        "test = pd.read_excel('/content/Constraint_English_Val.xlsx')\n",
        "/\n",
        "train['text'] = train.tweet\n",
        "train[\"text\"] = train[\"text\"].astype(str)\n",
        "\n",
        "test['text'] = test.tweet\n",
        "test[\"text\"] = test[\"text\"].astype(str)\n",
        "\n",
        "def classes_def(x):\n",
        "    if x ==  \"real\":\n",
        "        return \"1\"\n",
        "    else:\n",
        "        return \"0\"\n",
        "\n",
        "train['new_lb']=train['label'].apply(lambda x:classes_def(x))\n",
        "test['new_lb']=test['label'].apply(lambda x:classes_def(x))\n",
        "\n",
        "train.new_lb.value_counts(normalize= True)\n",
        "test.new_lb.value_counts(normalize= True)"
      ],
      "execution_count": 13,
      "outputs": [
        {
          "output_type": "execute_result",
          "data": {
            "text/plain": [
              "1    0.523364\n",
              "0    0.476636\n",
              "Name: new_lb, dtype: float64"
            ]
          },
          "metadata": {
            "tags": []
          },
          "execution_count": 13
        }
      ]
    },
    {
      "cell_type": "markdown",
      "metadata": {
        "id": "TfpRL_om7BO5"
      },
      "source": [
        "- Sau khi thực nghiệm, nhóm thấy rằng chỉ thực hiện hàm xóa URL, link, html sẽ cho kết quả có độ chính xác cao nhất. \r\n",
        "- Hàm chuyển in hóa -> in thường không ảnh hưởng đáng kể đến kết quả."
      ]
    },
    {
      "cell_type": "code",
      "metadata": {
        "id": "MePqvbrTW-cp"
      },
      "source": [
        "#Xóa url, link và các thẻ html\n",
        "def remove_urls(text):\n",
        "    url_remove = re.compile(r'https?://\\S+|www\\.\\S+')\n",
        "    return url_remove.sub(r'', text)\n",
        "train['text_new']=train['text'].apply(lambda x:remove_urls(x))\n",
        "test['text_new']=test['text'].apply(lambda x:remove_urls(x))\n",
        "\n",
        "def remove_html(text):\n",
        "    html=re.compile(r'<.*?>')\n",
        "    return html.sub(r'',text)\n",
        "train['text']=train['text_new'].apply(lambda x:remove_html(x))\n",
        "test['text']=test['text_new'].apply(lambda x:remove_html(x))"
      ],
      "execution_count": 14,
      "outputs": []
    },
    {
      "cell_type": "code",
      "metadata": {
        "id": "hqPA0KLQZgEh"
      },
      "source": [
        "#Chuyển các chữ in hoa thành in thường (Có thể áp dụng hoặc không)\n",
        "def lower(text):\n",
        "    low_text= text.lower()\n",
        "    return low_text\n",
        "train['text_new']=train['text'].apply(lambda x:lower(x))\n",
        "test['text_new']=test['text'].apply(lambda x:lower(x))"
      ],
      "execution_count": 15,
      "outputs": []
    },
    {
      "cell_type": "code",
      "metadata": {
        "id": "4RIDSCH-W7Jq"
      },
      "source": [
        "train = train.drop(['id','tweet','label','text_new'], axis = 1)\n",
        "test = test.drop(['id','tweet','label','text_new'], axis = 1)"
      ],
      "execution_count": 16,
      "outputs": []
    },
    {
      "cell_type": "code",
      "metadata": {
        "id": "aG1Ufb3xXi98"
      },
      "source": [
        "X_train = train.iloc[:,0].values\n",
        "y_train = train.iloc[:, -1].values \n",
        "X_test = test.iloc[:,0].values\n",
        "y_test = test.iloc[:, -1].values"
      ],
      "execution_count": 17,
      "outputs": []
    },
    {
      "cell_type": "markdown",
      "metadata": {
        "id": "GI6lM2DT83n1"
      },
      "source": [
        "Chạy một trong hai thuật toán word embedding.\r\n",
        "Ở đây, nhóm sẽ xử lí bằng Count Vectorizer vì sẽ cho kết quả cao có độ chính xác cao hơn một chút. "
      ]
    },
    {
      "cell_type": "code",
      "metadata": {
        "id": "HhfjArqff189"
      },
      "source": [
        "#Xu ly bang Count Vectorizer\n",
        "count_vectorizer = CountVectorizer(binary=True)\n",
        "X_train = count_vectorizer.fit_transform(X_train)\n",
        "X_test = count_vectorizer.transform(X_test)"
      ],
      "execution_count": 18,
      "outputs": []
    },
    {
      "cell_type": "code",
      "metadata": {
        "id": "-tT-E-vzbk8Q"
      },
      "source": [
        "#Xu ly bang TF-IDF \n",
        "vec = TfidfVectorizer(binary=True, use_idf=True)\n",
        "X_train = vec.fit_transform(X_train) \n",
        "X_test = vec.transform(X_test) "
      ],
      "execution_count": null,
      "outputs": []
    },
    {
      "cell_type": "markdown",
      "metadata": {
        "id": "_3OKw2aD9EFg"
      },
      "source": [
        "**Chạy một trong 4 thuận toán train model.**"
      ]
    },
    {
      "cell_type": "code",
      "metadata": {
        "id": "-0kaTOhXalnC"
      },
      "source": [
        "#Support Vector classifier\n",
        "model = SVC()"
      ],
      "execution_count": null,
      "outputs": []
    },
    {
      "cell_type": "code",
      "metadata": {
        "id": "kZApSxbsGUl3"
      },
      "source": [
        "#Logistic Regression Classifier\n",
        "model = LogisticRegression(random_state=0)"
      ],
      "execution_count": 23,
      "outputs": []
    },
    {
      "cell_type": "code",
      "metadata": {
        "id": "JJK2bd3gGVWz"
      },
      "source": [
        "#Linear SVC\n",
        "model = LinearSVC()"
      ],
      "execution_count": null,
      "outputs": []
    },
    {
      "cell_type": "code",
      "metadata": {
        "id": "ks-_E-2aGWAp"
      },
      "source": [
        "#MultinomialNB\n",
        "model = MultinomialNB()"
      ],
      "execution_count": 8,
      "outputs": []
    },
    {
      "cell_type": "code",
      "metadata": {
        "id": "fBE5c6zDFRaV"
      },
      "source": [
        "model.fit(X_train, y_train)\n",
        "y_pred = model.predict(X_test)"
      ],
      "execution_count": 24,
      "outputs": []
    },
    {
      "cell_type": "markdown",
      "metadata": {
        "id": "UR4SjXIU-y20"
      },
      "source": [
        "**Hiển thị kết quả trên 4 độ đo.**"
      ]
    },
    {
      "cell_type": "code",
      "metadata": {
        "colab": {
          "base_uri": "https://localhost:8080/"
        },
        "id": "yEdKa44San_i",
        "outputId": "3fcb832c-54af-4f42-e021-a1aeefdb7bb8"
      },
      "source": [
        "print('\\t\\t\\t\\tCLASSIFICATIION METRICS\\n')\n",
        "print(metrics.classification_report(y_test, y_pred, digits=4,\n",
        "                                    target_names= train['new_lb'].unique()))"
      ],
      "execution_count": 25,
      "outputs": [
        {
          "output_type": "stream",
          "text": [
            "\t\t\t\tCLASSIFICATIION METRICS\n",
            "\n",
            "              precision    recall  f1-score   support\n",
            "\n",
            "           1     0.9254    0.9490    0.9371      1020\n",
            "           0     0.9525    0.9304    0.9413      1120\n",
            "\n",
            "    accuracy                         0.9393      2140\n",
            "   macro avg     0.9389    0.9397    0.9392      2140\n",
            "weighted avg     0.9396    0.9393    0.9393      2140\n",
            "\n"
          ],
          "name": "stdout"
        }
      ]
    },
    {
      "cell_type": "code",
      "metadata": {
        "colab": {
          "base_uri": "https://localhost:8080/",
          "height": 349
        },
        "id": "P1jotakza5E6",
        "outputId": "705e0a97-b9d8-4271-9d99-690cdbbbde7f"
      },
      "source": [
        "cm=confusion_matrix(y_test, y_pred)\n",
        "cm_df=pd.DataFrame(cm,index=[0,1],columns=[0,1])\n",
        "print(\"Accuracy:\",accuracy_score(y_test, y_pred))\n",
        "\n",
        "sns.set(font_scale=1.4,color_codes=True,palette=\"deep\")\n",
        "sns.heatmap(cm_df,annot=True,annot_kws={\"size\":16},fmt=\"d\",cmap=\"YlGnBu\")\n",
        "plt.title(\"Confusion Matrix\")\n",
        "plt.xlabel(\"Predicted Value\")\n",
        "plt.ylabel(\"True Value\")"
      ],
      "execution_count": 26,
      "outputs": [
        {
          "output_type": "stream",
          "text": [
            "Accuracy: 0.9392523364485982\n"
          ],
          "name": "stdout"
        },
        {
          "output_type": "execute_result",
          "data": {
            "text/plain": [
              "Text(25.5, 0.5, 'True Value')"
            ]
          },
          "metadata": {
            "tags": []
          },
          "execution_count": 26
        },
        {
          "output_type": "display_data",
          "data": {
            "image/png": "[encoded data removed]",
            "text/plain": [
              "<Figure size 432x288 with 2 Axes>"
            ]
          },
          "metadata": {
            "tags": []
          }
        }
      ]
    }
  ]
}
