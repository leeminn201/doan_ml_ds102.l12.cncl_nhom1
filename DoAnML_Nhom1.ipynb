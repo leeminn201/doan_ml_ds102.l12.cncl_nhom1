{
  "nbformat": 4,
  "nbformat_minor": 0,
  "metadata": {
    "colab": {
      "name": "Bản sao của DoAnML.ipynb",
      "provenance": [],
      "collapsed_sections": []
    },
    "kernelspec": {
      "name": "python3",
      "display_name": "Python 3"
    }
  },
  "cells": [
    {
      "cell_type": "code",
      "metadata": {
        "id": "571DhZI9HiaI"
      },
      "source": [
        "#Import thư viện\n",
        "import pandas as pd\n",
        "import numpy as np\n",
        "import matplotlib.pyplot as plt\n",
        "import re\n",
        "import nltk\n",
        "\n",
        "from sklearn.feature_extraction.text import CountVectorizer, TfidfVectorizer\n",
        "\n",
        "from sklearn.linear_model import LogisticRegression\n",
        "from sklearn.ensemble import RandomForestClassifier\n",
        "from sklearn.svm import LinearSVC\n",
        "from sklearn.naive_bayes import MultinomialNB\n",
        "\n",
        "from sklearn.feature_extraction.text import TfidfTransformer\n",
        "from sklearn.metrics import classification_report, confusion_matrix\n",
        "from sklearn.metrics import accuracy_score\n",
        "import seaborn as sns\n",
        "from sklearn import metrics"
      ],
      "execution_count": 2,
      "outputs": []
    },
    {
      "cell_type": "code",
      "metadata": {
        "id": "JjD1kgjIJMzb"
      },
      "source": [
        "#Đọc dữ liệu\n",
        "train = pd.read_excel('/content/Constraint_English_Train.xlsx')\n",
        "test = pd.read_excel('/content/Constraint_English_Val.xlsx')\n",
        "\n",
        "train['text'] = train.tweet\n",
        "train[\"text\"] = train[\"text\"].astype(str)\n",
        "\n",
        "test['text'] = test.tweet\n",
        "test[\"text\"] = test[\"text\"].astype(str)\n",
        "\n",
        "def classes_def(x):\n",
        "    if x ==  \"real\":\n",
        "        return \"1\"\n",
        "    else:\n",
        "        return \"0\"\n",
        "\n",
        "train['new_lb']=train['label'].apply(lambda x:classes_def(x))\n",
        "test['new_lb']=test['label'].apply(lambda x:classes_def(x))\n",
        "\n",
        "train.new_lb.value_counts(normalize= True)\n",
        "test.new_lb.value_counts(normalize= True)"
      ],
      "execution_count": null,
      "outputs": []
    },
    {
      "cell_type": "code",
      "metadata": {
        "id": "aszn73P7olhl"
      },
      "source": [
        "#Một số hàm tiền xử lí dữ liệu.\r\n",
        "#Sau thời gian thực nghiệm, nhóm cho rằng bộ dữ liệu này chỉ sử dụng hàm xóa url, link và các thẻ html cho ra kết quả có độ chính xác cao nhất."
      ],
      "execution_count": null,
      "outputs": []
    },
    {
      "cell_type": "code",
      "metadata": {
        "id": "MePqvbrTW-cp"
      },
      "source": [
        "#Xóa url, link và các thẻ html\n",
        "def remove_urls(text):\n",
        "    url_remove = re.compile(r'https?://\\S+|www\\.\\S+')\n",
        "    return url_remove.sub(r'', text)\n",
        "train['text_new']=train['text'].apply(lambda x:remove_urls(x))\n",
        "test['text_new']=test['text'].apply(lambda x:remove_urls(x))\n",
        "\n",
        "def remove_html(text):\n",
        "    html=re.compile(r'<.*?>')\n",
        "    return html.sub(r'',text)\n",
        "train['text']=train['text_new'].apply(lambda x:remove_html(x))\n",
        "test['text']=test['text_new'].apply(lambda x:remove_html(x))"
      ],
      "execution_count": 4,
      "outputs": []
    },
    {
      "cell_type": "code",
      "metadata": {
        "id": "hqPA0KLQZgEh"
      },
      "source": [
        "#Chuyển các chữ in hoa thành in thường (Có thể áp dụng hoặc không)\n",
        "def lower(text):\n",
        "    low_text= text.lower()\n",
        "    return low_text\n",
        "train['text_new']=train['text'].apply(lambda x:lower(x))\n",
        "test['text_new']=test['text'].apply(lambda x:lower(x))"
      ],
      "execution_count": 5,
      "outputs": []
    },
    {
      "cell_type": "code",
      "metadata": {
        "id": "AWEQHW9IlA69"
      },
      "source": [
        "#Xóa số (Có thể áp dụng hoặc không)\n",
        "def remove_num(text):\n",
        "    remove= re.sub(r'\\d+', '', text)\n",
        "    return remove\n",
        "train['text']=train['text_new'].apply(lambda x:remove_num(x))\n",
        "test['text']=test['text_new'].apply(lambda x:remove_num(x))"
      ],
      "execution_count": null,
      "outputs": []
    },
    {
      "cell_type": "code",
      "metadata": {
        "id": "FVRkbALhlynB"
      },
      "source": [
        "#Xóa stopword và dấu câu (Có thể áp dụng hoặc không)\n",
        "from nltk.corpus import stopwords\n",
        "nltk.download('stopwords')\n",
        "\", \".join(stopwords.words('english'))\n",
        "STOPWORDS = set(stopwords.words('english'))\n",
        "\n",
        "def punct_remove(text):\n",
        "    punct = re.sub(r\"[^\\w\\s\\d]\",\"\", text)\n",
        "    return punct\n",
        "train['text_new']=train['text'].apply(lambda x:punct_remove(x))\n",
        "test['text_new']=test['text'].apply(lambda x:punct_remove(x))\n",
        "\n",
        "\n",
        "def remove_stopwords(text):\n",
        "    \"\"\"custom function to remove the stopwords\"\"\"\n",
        "    return \" \".join([word for word in str(text).split() if word not in STOPWORDS])\n",
        "train['text']=train['text_new'].apply(lambda x:remove_stopwords(x))\n",
        "test['text']=test['text_new'].apply(lambda x:remove_stopwords(x))"
      ],
      "execution_count": null,
      "outputs": []
    },
    {
      "cell_type": "code",
      "metadata": {
        "id": "rXRpr9-KZghO"
      },
      "source": [
        "#Xóa những đề cập và hashtag (Có thể áp dụng hoặc không)\n",
        "def remove_mention(x):\n",
        "    text=re.sub(r'@\\w+','',x)\n",
        "    return text\n",
        "train['text_new']=train['text'].apply(lambda x:remove_mention(x))\n",
        "test['text_new']=test['text'].apply(lambda x:remove_mention(x))\n",
        "\n",
        "def remove_hash(x):\n",
        "    text=re.sub(r'#\\w+','',x)\n",
        "    return text\n",
        "train['text']=train['text_new'].apply(lambda x:remove_hash(x))\n",
        "test['text']=test['text_new'].apply(lambda x:remove_hash(x))\n",
        "\n",
        "#Xóa khoảng trắng còn lại\n",
        "def remove_space(text):\n",
        "    space_remove = re.sub(r\"\\s+\",\" \",text).strip()\n",
        "    return space_remove\n",
        "train['text_new']=train['text'].apply(lambda x:remove_space(x))\n",
        "test['text_new']=test['text'].apply(lambda x:remove_space(x))\n",
        "test = test.drop(columns=['text_new'])\n",
        "train = train.drop(columns=['text_new'])"
      ],
      "execution_count": null,
      "outputs": []
    },
    {
      "cell_type": "code",
      "metadata": {
        "id": "4RIDSCH-W7Jq"
      },
      "source": [
        "train = train.drop(['id','tweet','label','text_new'], axis = 1)\n",
        "test = test.drop(['id','tweet','label','text_new'], axis = 1)"
      ],
      "execution_count": 6,
      "outputs": []
    },
    {
      "cell_type": "code",
      "metadata": {
        "id": "aG1Ufb3xXi98"
      },
      "source": [
        "X_train = train.iloc[:,0].values\n",
        "y_train = train.iloc[:, -1].values \n",
        "X_test = test.iloc[:,0].values\n",
        "y_test = test.iloc[:, -1].values"
      ],
      "execution_count": 7,
      "outputs": []
    },
    {
      "cell_type": "code",
      "metadata": {
        "id": "HhfjArqff189"
      },
      "source": [
        "#Xu ly bang Count Vectorizer\n",
        "count_vectorizer = CountVectorizer(binary=True)\n",
        "X_train = count_vectorizer.fit_transform(X_train)\n",
        "X_test = count_vectorizer.transform(X_test)"
      ],
      "execution_count": 8,
      "outputs": []
    },
    {
      "cell_type": "code",
      "metadata": {
        "id": "-tT-E-vzbk8Q"
      },
      "source": [
        "#Xu ly bang TF-IDF \n",
        "vec = TfidfVectorizer(binary=True, use_idf=True)\n",
        "X_train = vec.fit_transform(X_train) \n",
        "X_test = vec.transform(X_test) "
      ],
      "execution_count": null,
      "outputs": []
    },
    {
      "cell_type": "code",
      "metadata": {
        "id": "-0kaTOhXalnC"
      },
      "source": [
        "#Support Vector classifier\n",
        "model = SVC()"
      ],
      "execution_count": null,
      "outputs": []
    },
    {
      "cell_type": "code",
      "metadata": {
        "id": "kZApSxbsGUl3"
      },
      "source": [
        "#Logistic Regression Classifier\n",
        "model = LogisticRegression(random_state=0)"
      ],
      "execution_count": 13,
      "outputs": []
    },
    {
      "cell_type": "code",
      "metadata": {
        "id": "JJK2bd3gGVWz"
      },
      "source": [
        "#Linear SVC\n",
        "model =   LinearSVC()"
      ],
      "execution_count": null,
      "outputs": []
    },
    {
      "cell_type": "code",
      "metadata": {
        "id": "P0tOcq26kXcQ"
      },
      "source": [
        "#MultinomialNB\r\n",
        "model = MultinomialNB()"
      ],
      "execution_count": 9,
      "outputs": []
    },
    {
      "cell_type": "code",
      "metadata": {
        "id": "ks-_E-2aGWAp"
      },
      "source": [
        "#RandomForestClassifier\n",
        "model = RandomForestClassifier(criterion = 'entropy', random_state = 0)"
      ],
      "execution_count": null,
      "outputs": []
    },
    {
      "cell_type": "code",
      "metadata": {
        "id": "fBE5c6zDFRaV"
      },
      "source": [
        "model.fit(X_train, y_train)\n",
        "y_pred = model.predict(X_test)"
      ],
      "execution_count": 14,
      "outputs": []
    },
    {
      "cell_type": "code",
      "metadata": {
        "colab": {
          "base_uri": "https://localhost:8080/"
        },
        "id": "yEdKa44San_i",
        "outputId": "95aec98b-ab0a-4c22-84e7-8826d1ebfb7f"
      },
      "source": [
        "#Hiển thị kết quả\n",
        "print('\\t\\t\\t\\tCLASSIFICATIION METRICS\\n')\n",
        "print(metrics.classification_report(y_test, y_pred, digits = 4,\n",
        "                                    target_names= train['new_lb'].unique()))"
      ],
      "execution_count": 15,
      "outputs": [
        {
          "output_type": "stream",
          "text": [
            "\t\t\t\tCLASSIFICATIION METRICS\n",
            "\n",
            "              precision    recall  f1-score   support\n",
            "\n",
            "           1     0.9254    0.9490    0.9371      1020\n",
            "           0     0.9525    0.9304    0.9413      1120\n",
            "\n",
            "    accuracy                         0.9393      2140\n",
            "   macro avg     0.9389    0.9397    0.9392      2140\n",
            "weighted avg     0.9396    0.9393    0.9393      2140\n",
            "\n"
          ],
          "name": "stdout"
        }
      ]
    },
    {
      "cell_type": "code",
      "metadata": {
        "colab": {
          "base_uri": "https://localhost:8080/",
          "height": 349
        },
        "id": "P1jotakza5E6",
        "outputId": "df40d2ac-611f-4e74-fb28-e01c33317478"
      },
      "source": [
        "cm=confusion_matrix(y_test, y_pred)\n",
        "cm_df=pd.DataFrame(cm,index=[0,1],columns=[0,1])\n",
        "print(\"Accuracy:\",accuracy_score(y_test, y_pred))\n",
        "\n",
        "sns.set(font_scale=1.4,color_codes=True,palette=\"deep\")\n",
        "sns.heatmap(cm_df,annot=True,annot_kws={\"size\":16},fmt=\"d\",cmap=\"YlGnBu\")\n",
        "plt.title(\"Confusion Matrix\")\n",
        "plt.xlabel(\"Predicted Value\")\n",
        "plt.ylabel(\"True Value\")"
      ],
      "execution_count": 12,
      "outputs": [
        {
          "output_type": "stream",
          "text": [
            "Accuracy: 0.9191588785046729\n"
          ],
          "name": "stdout"
        },
        {
          "output_type": "execute_result",
          "data": {
            "text/plain": [
              "Text(25.5, 0.5, 'True Value')"
            ]
          },
          "metadata": {
            "tags": []
          },
          "execution_count": 12
        },
        {
          "output_type": "display_data",
          "data": {
            "image/png": "[encoded data removed]",
            "text/plain": [
              "<Figure size 432x288 with 2 Axes>"
            ]
          },
          "metadata": {
            "tags": []
          }
        }
      ]
    }
  ]
}